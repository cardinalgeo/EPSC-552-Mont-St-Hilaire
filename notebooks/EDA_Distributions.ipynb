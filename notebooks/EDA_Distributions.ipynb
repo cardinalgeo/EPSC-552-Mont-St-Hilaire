{
 "cells": [
  {
   "cell_type": "code",
   "execution_count": 11,
   "source": [
    "import pandas as pd\n",
    "from mendeleev.fetch import fetch_table\n",
    "from ipywidgets import widgets\n",
    "import plotly.graph_objects as go\n"
   ],
   "outputs": [],
   "metadata": {}
  },
  {
   "cell_type": "code",
   "execution_count": 21,
   "source": [
    "xrf_data = pd.read_excel(\"../data/interim/xrf_data_clean.xlsx\")\n",
    "xrf_data[\"date_str\"] = xrf_data[\"date\"].dt.strftime(\"%Y-%m-%d\")\n",
    "xrf_data[\"date_str\"]"
   ],
   "outputs": [
    {
     "output_type": "execute_result",
     "data": {
      "text/plain": [
       "0      2021-10-06\n",
       "1      2021-10-06\n",
       "2      2021-10-06\n",
       "3      2021-10-06\n",
       "4      2021-10-06\n",
       "          ...    \n",
       "218    2021-11-04\n",
       "219    2021-11-04\n",
       "220    2021-11-04\n",
       "221    2021-11-04\n",
       "222    2021-11-04\n",
       "Name: date_str, Length: 223, dtype: object"
      ]
     },
     "metadata": {},
     "execution_count": 21
    }
   ],
   "metadata": {}
  },
  {
   "cell_type": "code",
   "execution_count": 22,
   "source": [
    "session = widgets.Dropdown(\n",
    "    description='Session:',\n",
    "    options=[\"All\"] + xrf_data['date_str'].unique().tolist() # string because datetime not rendered\n",
    ")\n",
    "\n",
    "group = widgets.Dropdown(\n",
    "    description='Group: ',\n",
    "    options=[\"All\"] + xrf_data['group'].unique().tolist() \n",
    ")\n",
    "\n",
    "sample_type = widgets.Dropdown(\n",
    "    options=[\"All\"] + xrf_data['sample_type'].unique().tolist(),\n",
    "    description='Sample Type: '\n",
    ")\n",
    "\n",
    "qaqc_type = widgets.Dropdown(\n",
    "    options=[\"All\"] + xrf_data['qaqc_type'].unique().tolist(),\n",
    "    description='QA/QC Type: '\n",
    ")"
   ],
   "outputs": [],
   "metadata": {}
  },
  {
   "cell_type": "code",
   "execution_count": 14,
   "source": [
    "# get elements analyzed\n",
    "columns = xrf_data.columns.tolist()\n",
    "ptable = fetch_table('elements').symbol.to_list()\n",
    "elements = list(set(columns) & set(ptable))\n",
    "elements.sort()\n",
    "\n",
    "\n",
    "element = widgets.Dropdown(\n",
    "    options=elements,\n",
    "    description=\"Elements: \"\n",
    ")"
   ],
   "outputs": [],
   "metadata": {}
  },
  {
   "cell_type": "code",
   "execution_count": 15,
   "source": [
    "g = go.FigureWidget()\n",
    "\n",
    "for elem in elements: \n",
    "    g.add_trace(\n",
    "        go.Histogram(x=xrf_data[elem], opacity=0.75, name=elem) \n",
    "    )"
   ],
   "outputs": [],
   "metadata": {}
  },
  {
   "cell_type": "code",
   "execution_count": 23,
   "source": [
    "def validate(): \n",
    "    if (session.value     in xrf_data['date_str'].unique()    or session.value == \"All\")     and \\\n",
    "       (group.value       in xrf_data['group'].unique()       or group.value == \"All\")       and \\\n",
    "       (sample_type.value in xrf_data['sample_type'].unique() or sample_type.value == \"All\") and \\\n",
    "       (qaqc_type.value   in xrf_data['qaqc_type'].unique()   or qaqc_type.value == \"All\")   and \\\n",
    "       (element.value     in elements): \n",
    "        return True\n",
    "    else:\n",
    "        return False"
   ],
   "outputs": [],
   "metadata": {}
  },
  {
   "cell_type": "code",
   "execution_count": 24,
   "source": [
    "def response(change):\n",
    "    if validate(): # if is true\n",
    "        visibilities = [False] * len(g.data)\n",
    "        visible_index = elements.index(element.value)\n",
    "        visibilities[visible_index] = True\n",
    "\n",
    "        filter = dict.fromkeys(['session', 'group', 'sample_type', 'qaqc_type'])\n",
    "\n",
    "        if session.value == \"All\": \n",
    "            filter['session'] = pd.Series([True] * xrf_data.shape[0])\n",
    "        else:\n",
    "            filter['session'] = pd.Series(xrf_data['date_str'] == session.value)\n",
    "\n",
    "        if group.value == \"All\": \n",
    "            filter['group'] = pd.Series([True] * xrf_data.shape[0])\n",
    "        else:\n",
    "            filter['group'] = pd.Series(xrf_data['group'] == group.value)\n",
    "\n",
    "        if sample_type.value == \"All\": \n",
    "            filter['sample_type'] = pd.Series([True] * xrf_data.shape[0])\n",
    "        else:\n",
    "            filter['sample_type'] = pd.Series(xrf_data['sample_type'] == sample_type.value) \n",
    "\n",
    "        if qaqc_type.value == \"All\": \n",
    "            filter['qaqc_type'] = pd.Series([True] * xrf_data.shape[0])\n",
    "        else:\n",
    "            filter['qaqc_type'] = pd.Series(xrf_data['qaqc_type'] == qaqc_type.value)                    \n",
    "\n",
    "        filter_list = [session_bool and group_bool and sample_type_bool and qaqc_type_bool \\\n",
    "                       for session_bool, group_bool, sample_type_bool, qaqc_type_bool \\\n",
    "                       in zip(filter['session'], filter['group'], filter['sample_type'], filter['qaqc_type'])]\n",
    "                        \n",
    "        temp_df = xrf_data[filter_list]\n",
    "        x =  [None] * len(g.data)\n",
    "        for i, elem in enumerate(elements):\n",
    "            x[i] = temp_df[elem]\n",
    "        with g.batch_update(): # required to update data\n",
    "            for i, (trace, visibility) in enumerate(zip(x, visibilities)): \n",
    "                g.data[i].x = x[i]\n",
    "                g.data[i].visible = visibility\n",
    "\n",
    "\n",
    "g.layout.xaxis.title = 'Concentration (ppm)'\n",
    "g.layout.yaxis.title = 'No. of samples'\n",
    "\n",
    "\n",
    "session.observe(response, names=\"value\")\n",
    "group.observe(response, names=\"value\")\n",
    "sample_type.observe(response, names=\"value\")\n",
    "qaqc_type.observe(response, names=\"value\")\n",
    "element.observe(response, names=\"value\")\n"
   ],
   "outputs": [],
   "metadata": {}
  },
  {
   "cell_type": "code",
   "execution_count": 25,
   "source": [
    "container1 = widgets.HBox([element, session, group])\n",
    "container2 = widgets.HBox([sample_type, qaqc_type])\n",
    "widgets.VBox([container1, container2, \n",
    "              g])"
   ],
   "outputs": [
    {
     "output_type": "display_data",
     "data": {
      "text/plain": [
       "VBox(children=(HBox(children=(Dropdown(description='Elements: ', index=13, options=('Ag', 'As', 'Au', 'Ba', 'B…"
      ],
      "application/vnd.jupyter.widget-view+json": {
       "version_major": 2,
       "version_minor": 0,
       "model_id": "4cc3ebba41f6470ca02001cf06cf6a63"
      }
     },
     "metadata": {}
    }
   ],
   "metadata": {}
  },
  {
   "cell_type": "code",
   "execution_count": null,
   "source": [],
   "outputs": [],
   "metadata": {}
  },
  {
   "cell_type": "code",
   "execution_count": null,
   "source": [],
   "outputs": [],
   "metadata": {}
  }
 ],
 "metadata": {
  "interpreter": {
   "hash": "5b05094f89a358e2bd5427d75e369c2a5f46c6e74e121d199000cf40cdc3d3be"
  },
  "kernelspec": {
   "name": "python3",
   "display_name": "Python 3.9.7 64-bit ('EPSC-552-Mont-St-Hilaire': conda)"
  },
  "language_info": {
   "codemirror_mode": {
    "name": "ipython",
    "version": 3
   },
   "file_extension": ".py",
   "mimetype": "text/x-python",
   "name": "python",
   "nbconvert_exporter": "python",
   "pygments_lexer": "ipython3",
   "version": "3.9.7"
  },
  "orig_nbformat": 4
 },
 "nbformat": 4,
 "nbformat_minor": 2
}