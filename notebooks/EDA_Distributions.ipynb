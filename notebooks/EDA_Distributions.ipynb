{
 "cells": [
  {
   "cell_type": "code",
   "execution_count": 6,
   "source": [
    "import pandas as pd\n",
    "from matplotlib import pyplot as plt\n",
    "from mendeleev.fetch import fetch_table\n",
    "import numpy as np\n",
    "from ipywidgets import widgets\n",
    "import plotly.graph_objects as go\n"
   ],
   "outputs": [],
   "metadata": {}
  },
  {
   "cell_type": "code",
   "execution_count": 2,
   "source": [
    "xrf_data = pd.read_excel(\"../data/interim/xrf_data_clean.xlsx\")"
   ],
   "outputs": [],
   "metadata": {}
  },
  {
   "cell_type": "code",
   "execution_count": 36,
   "source": [
    "standards_data = xrf_data[xrf_data[\"qaqc_type\"]==\"standard\"]\n",
    "lab_duplicates_data = xrf_data[xrf_data[\"qaqc_type\"]==\"lab duplicate\"]\n",
    "field_duplicates_data = xrf_data[xrf_data[\"qaqc_type\"]==\"field duplicate\"]"
   ],
   "outputs": [],
   "metadata": {}
  },
  {
   "cell_type": "code",
   "execution_count": 37,
   "source": [
    "standards = standards_data[\"sample_id\"].unique()\n",
    "lab_duplicates = lab_duplicates_data[\"sample_id\"].unique()\n",
    "field_duplicates = field_duplicates_data[\"sample_id\"].unique()\n",
    "dates = xrf_data[\"date\"].unique()\n"
   ],
   "outputs": [],
   "metadata": {}
  },
  {
   "cell_type": "code",
   "execution_count": 38,
   "source": [
    "standards_drift_data = standards_data\n",
    "for standard in standards:\n",
    "    for date in dates:\n",
    "        initial_date = \"2021-10-06\"\n",
    "        print(standard)\n",
    "        if standards_drift_data[standards_drift_data[\"sample_id\"]==standard and standards_drift_data[\"date\"]==initial_date]: \n",
    "            initial_measurement = standards_drift_data[standards_drift_data[\"sample_id\"]==standard and \\\n",
    "                                standards_drift_data[\"date\"]==initial_date]\n",
    "            measurement = standards_drift_data[standards_drift_data[\"sample_id\"]==standard and \\\n",
    "                                standards_drift_data[\"date\"]==date]\n",
    "\n",
    "            standards_drift_data[standards_drift_data[\"sample_id\"]==standard and standards_drift_data[\"date\"]==date] = measurement - initial_measurement"
   ],
   "outputs": [
    {
     "output_type": "stream",
     "name": "stdout",
     "text": [
      "oreas24b\n"
     ]
    },
    {
     "output_type": "error",
     "ename": "ValueError",
     "evalue": "The truth value of a Series is ambiguous. Use a.empty, a.bool(), a.item(), a.any() or a.all().",
     "traceback": [
      "\u001b[0;31m---------------------------------------------------------------------------\u001b[0m",
      "\u001b[0;31mValueError\u001b[0m                                Traceback (most recent call last)",
      "\u001b[0;32m/var/folders/s5/y_27w4ms6tj21xxv0z3tg3cw0000gn/T/ipykernel_19516/1572095968.py\u001b[0m in \u001b[0;36m<module>\u001b[0;34m\u001b[0m\n\u001b[1;32m      4\u001b[0m         \u001b[0minitial_date\u001b[0m \u001b[0;34m=\u001b[0m \u001b[0;34m\"2021-10-06\"\u001b[0m\u001b[0;34m\u001b[0m\u001b[0;34m\u001b[0m\u001b[0m\n\u001b[1;32m      5\u001b[0m         \u001b[0mprint\u001b[0m\u001b[0;34m(\u001b[0m\u001b[0mstandard\u001b[0m\u001b[0;34m)\u001b[0m\u001b[0;34m\u001b[0m\u001b[0;34m\u001b[0m\u001b[0m\n\u001b[0;32m----> 6\u001b[0;31m         \u001b[0;32mif\u001b[0m \u001b[0mstandards_drift_data\u001b[0m\u001b[0;34m[\u001b[0m\u001b[0mstandards_drift_data\u001b[0m\u001b[0;34m[\u001b[0m\u001b[0;34m\"sample_id\"\u001b[0m\u001b[0;34m]\u001b[0m\u001b[0;34m==\u001b[0m\u001b[0mstandard\u001b[0m \u001b[0;32mand\u001b[0m \u001b[0mstandards_drift_data\u001b[0m\u001b[0;34m[\u001b[0m\u001b[0;34m\"date\"\u001b[0m\u001b[0;34m]\u001b[0m\u001b[0;34m==\u001b[0m\u001b[0minitial_date\u001b[0m\u001b[0;34m]\u001b[0m\u001b[0;34m:\u001b[0m\u001b[0;34m\u001b[0m\u001b[0;34m\u001b[0m\u001b[0m\n\u001b[0m\u001b[1;32m      7\u001b[0m             initial_measurement = standards_drift_data[standards_drift_data[\"sample_id\"]==standard and \\\n\u001b[1;32m      8\u001b[0m                                 standards_drift_data[\"date\"]==initial_date]\n",
      "\u001b[0;32m~/miniconda3/envs/EPSC-552-Mont-St-Hilaire/lib/python3.9/site-packages/pandas/core/generic.py\u001b[0m in \u001b[0;36m__nonzero__\u001b[0;34m(self)\u001b[0m\n\u001b[1;32m   1535\u001b[0m     \u001b[0;34m@\u001b[0m\u001b[0mfinal\u001b[0m\u001b[0;34m\u001b[0m\u001b[0;34m\u001b[0m\u001b[0m\n\u001b[1;32m   1536\u001b[0m     \u001b[0;32mdef\u001b[0m \u001b[0m__nonzero__\u001b[0m\u001b[0;34m(\u001b[0m\u001b[0mself\u001b[0m\u001b[0;34m)\u001b[0m\u001b[0;34m:\u001b[0m\u001b[0;34m\u001b[0m\u001b[0;34m\u001b[0m\u001b[0m\n\u001b[0;32m-> 1537\u001b[0;31m         raise ValueError(\n\u001b[0m\u001b[1;32m   1538\u001b[0m             \u001b[0;34mf\"The truth value of a {type(self).__name__} is ambiguous. \"\u001b[0m\u001b[0;34m\u001b[0m\u001b[0;34m\u001b[0m\u001b[0m\n\u001b[1;32m   1539\u001b[0m             \u001b[0;34m\"Use a.empty, a.bool(), a.item(), a.any() or a.all().\"\u001b[0m\u001b[0;34m\u001b[0m\u001b[0;34m\u001b[0m\u001b[0m\n",
      "\u001b[0;31mValueError\u001b[0m: The truth value of a Series is ambiguous. Use a.empty, a.bool(), a.item(), a.any() or a.all()."
     ]
    }
   ],
   "metadata": {}
  },
  {
   "cell_type": "code",
   "execution_count": 39,
   "source": [
    "plt.scatter(standards[\"date\"],standards[\"Ca\"])"
   ],
   "outputs": [
    {
     "output_type": "error",
     "ename": "IndexError",
     "evalue": "only integers, slices (`:`), ellipsis (`...`), numpy.newaxis (`None`) and integer or boolean arrays are valid indices",
     "traceback": [
      "\u001b[0;31m---------------------------------------------------------------------------\u001b[0m",
      "\u001b[0;31mIndexError\u001b[0m                                Traceback (most recent call last)",
      "\u001b[0;32m/var/folders/s5/y_27w4ms6tj21xxv0z3tg3cw0000gn/T/ipykernel_19516/1725506003.py\u001b[0m in \u001b[0;36m<module>\u001b[0;34m\u001b[0m\n\u001b[0;32m----> 1\u001b[0;31m \u001b[0mplt\u001b[0m\u001b[0;34m.\u001b[0m\u001b[0mscatter\u001b[0m\u001b[0;34m(\u001b[0m\u001b[0mstandards\u001b[0m\u001b[0;34m[\u001b[0m\u001b[0;34m\"date\"\u001b[0m\u001b[0;34m]\u001b[0m\u001b[0;34m,\u001b[0m\u001b[0mstandards\u001b[0m\u001b[0;34m[\u001b[0m\u001b[0;34m\"Ca\"\u001b[0m\u001b[0;34m]\u001b[0m\u001b[0;34m)\u001b[0m\u001b[0;34m\u001b[0m\u001b[0;34m\u001b[0m\u001b[0m\n\u001b[0m",
      "\u001b[0;31mIndexError\u001b[0m: only integers, slices (`:`), ellipsis (`...`), numpy.newaxis (`None`) and integer or boolean arrays are valid indices"
     ]
    }
   ],
   "metadata": {}
  },
  {
   "cell_type": "code",
   "execution_count": 7,
   "source": [
    "session = widgets.Dropdown(\n",
    "    description='Session:',\n",
    "    options=[\"All\"] + xrf_data['date'].unique().tolist() \n",
    ")\n",
    "\n",
    "group = widgets.Dropdown(\n",
    "    description='Group: ',\n",
    "    options=[\"All\"] + xrf_data['group'].unique().tolist() \n",
    ")\n",
    "\n",
    "sample_type = widgets.Dropdown(\n",
    "    options=[\"All\"] + xrf_data['sample_type'].unique().tolist(),\n",
    "    description='Sample Type: '\n",
    ")\n",
    "\n",
    "qaqc_type = widgets.Dropdown(\n",
    "    options=[\"All\"] + xrf_data['qaqc_type'].unique().tolist(),\n",
    "    description='QA/QC Type: '\n",
    ")"
   ],
   "outputs": [],
   "metadata": {}
  },
  {
   "cell_type": "code",
   "execution_count": 8,
   "source": [
    "# get elements analyzed\n",
    "columns = xrf_data.columns.tolist()\n",
    "ptable = fetch_table('elements').symbol.to_list()\n",
    "elements = list(set(columns) & set(ptable))\n",
    "elements.sort()\n",
    "\n",
    "\n",
    "element = widgets.Dropdown(\n",
    "    options=elements,\n",
    "    description=\"Elements: \"\n",
    ")"
   ],
   "outputs": [],
   "metadata": {}
  },
  {
   "cell_type": "code",
   "execution_count": 15,
   "source": [
    "g = go.FigureWidget()\n",
    "\n",
    "for elem in elements: \n",
    "    g.add_trace(\n",
    "        go.Histogram(x=xrf_data[elem], opacity=0.75, name=elem) \n",
    "    )"
   ],
   "outputs": [],
   "metadata": {}
  },
  {
   "cell_type": "code",
   "execution_count": 16,
   "source": [
    "def validate(): \n",
    "    if (session.value     in xrf_data['date'].unique()        or session.value == \"All\")     and \\\n",
    "       (group.value       in xrf_data['group'].unique()       or group.value == \"All\")       and \\\n",
    "       (sample_type.value in xrf_data['sample_type'].unique() or sample_type.value == \"All\") and \\\n",
    "       (qaqc_type.value   in xrf_data['qaqc_type'].unique()   or qaqc_type.value == \"All\")   and \\\n",
    "       (element.value     in elements): \n",
    "        return True\n",
    "    else:\n",
    "        return False"
   ],
   "outputs": [],
   "metadata": {}
  },
  {
   "cell_type": "code",
   "execution_count": 17,
   "source": [
    "def response(change):\n",
    "    if validate(): # if is true\n",
    "        visibilities = [False] * len(g.data)\n",
    "        visible_index = elements.index(element.value)\n",
    "        visibilities[visible_index] = True\n",
    "\n",
    "        filter = dict.fromkeys(['session', 'group', 'sample_type', 'qaqc_type'])\n",
    "\n",
    "        if session.value == \"All\": \n",
    "            filter['session'] = pd.Series([True] * xrf_data.shape[0])\n",
    "        else:\n",
    "            filter['session'] = pd.Series(xrf_data['date'] == session.value)\n",
    "\n",
    "        if group.value == \"All\": \n",
    "            filter['group'] = pd.Series([True] * xrf_data.shape[0])\n",
    "        else:\n",
    "            filter['group'] = pd.Series(xrf_data['group'] == group.value)\n",
    "\n",
    "        if sample_type.value == \"All\": \n",
    "            filter['sample_type'] = pd.Series([True] * xrf_data.shape[0])\n",
    "        else:\n",
    "            filter['sample_type'] = pd.Series(xrf_data['sample_type'] == sample_type.value) \n",
    "\n",
    "        if qaqc_type.value == \"All\": \n",
    "            filter['qaqc_type'] = pd.Series([True] * xrf_data.shape[0])\n",
    "        else:\n",
    "            filter['qaqc_type'] = pd.Series(xrf_data['qaqc_type'] == qaqc_type.value)                    \n",
    "\n",
    "        filter_list = [session_bool and group_bool and sample_type_bool and qaqc_type_bool \\\n",
    "                       for session_bool, group_bool, sample_type_bool, qaqc_type_bool \\\n",
    "                       in zip(filter['session'], filter['group'], filter['sample_type'], filter['qaqc_type'])]\n",
    "                        \n",
    "        temp_df = xrf_data[filter_list]\n",
    "        x =  [None] * len(g.data)\n",
    "        for i, elem in enumerate(elements):\n",
    "            x[i] = temp_df[elem]\n",
    "        with g.batch_update(): # required to update data\n",
    "            for i, (trace, visibility) in enumerate(zip(x, visibilities)): \n",
    "                g.data[i].x = x[i]\n",
    "                g.data[i].visible = visibility\n",
    "\n",
    "\n",
    "g.layout.xaxis.title = 'Concentration (ppm)'\n",
    "g.layout.yaxis.title = 'No. of samples'\n",
    "\n",
    "\n",
    "session.observe(response, names=\"value\")\n",
    "group.observe(response, names=\"value\")\n",
    "sample_type.observe(response, names=\"value\")\n",
    "qaqc_type.observe(response, names=\"value\")\n",
    "element.observe(response, names=\"value\")\n"
   ],
   "outputs": [],
   "metadata": {}
  },
  {
   "cell_type": "code",
   "execution_count": 18,
   "source": [
    "container1 = widgets.HBox([element, session, group])\n",
    "container2 = widgets.HBox([sample_type, qaqc_type])\n",
    "widgets.VBox([container1, container2, \n",
    "              g])"
   ],
   "outputs": [
    {
     "output_type": "display_data",
     "data": {
      "text/plain": [
       "VBox(children=(HBox(children=(Dropdown(description='Elements: ', index=9, options=('Ag', 'As', 'Au', 'Ba', 'Bi…"
      ],
      "application/vnd.jupyter.widget-view+json": {
       "version_major": 2,
       "version_minor": 0,
       "model_id": "2ec6005a9c9c47ff8869d5b305d8edc5"
      }
     },
     "metadata": {}
    }
   ],
   "metadata": {}
  },
  {
   "cell_type": "code",
   "execution_count": null,
   "source": [],
   "outputs": [],
   "metadata": {}
  }
 ],
 "metadata": {
  "interpreter": {
   "hash": "5b05094f89a358e2bd5427d75e369c2a5f46c6e74e121d199000cf40cdc3d3be"
  },
  "kernelspec": {
   "name": "python3",
   "display_name": "Python 3.9.7 64-bit ('EPSC-552-Mont-St-Hilaire': conda)"
  },
  "language_info": {
   "codemirror_mode": {
    "name": "ipython",
    "version": 3
   },
   "file_extension": ".py",
   "mimetype": "text/x-python",
   "name": "python",
   "nbconvert_exporter": "python",
   "pygments_lexer": "ipython3",
   "version": "3.9.7"
  },
  "orig_nbformat": 4
 },
 "nbformat": 4,
 "nbformat_minor": 2
}