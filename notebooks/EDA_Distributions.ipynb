{
 "cells": [
  {
   "cell_type": "code",
   "execution_count": 1,
   "source": [
    "import pandas as pd\n",
    "from mendeleev.fetch import fetch_table\n",
    "from source.interactive_plots import interactive_histogram, interactive_violin\n"
   ],
   "outputs": [],
   "metadata": {}
  },
  {
   "cell_type": "code",
   "execution_count": 2,
   "source": [
    "xrf_data = pd.read_excel(\"../data/interim/xrf_data_clean.xlsx\")\n",
    "xrf_data[\"date_str\"] = xrf_data[\"date\"].dt.strftime(\"%Y-%m-%d\")"
   ],
   "outputs": [],
   "metadata": {}
  },
  {
   "cell_type": "code",
   "execution_count": 3,
   "source": [
    "# get elements analyzed\n",
    "columns = xrf_data.columns.tolist()\n",
    "ptable = fetch_table('elements').symbol.to_list()\n",
    "elements = list(set(columns) & set(ptable))\n",
    "elements.sort()"
   ],
   "outputs": [],
   "metadata": {}
  },
  {
   "cell_type": "code",
   "execution_count": 10,
   "source": [
    "dropdown_buttons = {\n",
    "    \"categories\": \n",
    "        [\n",
    "            {\n",
    "                \"name\": \"Session\", \n",
    "                \"column\": \"date_str\", \n",
    "                \"button row\": 1\n",
    "            },\n",
    "            {\n",
    "                \"name\": \"Group\", \n",
    "                \"column\": \"group\", \n",
    "                \"button row\": 1\n",
    "            }, \n",
    "            {\n",
    "                \"name\": \"Sample Type\", \n",
    "                \"column\": \"sample_type\",\n",
    "                \"button row\": 2\n",
    "            },\n",
    "            {\n",
    "                \"name\": \"QA/QC Type\", \n",
    "                \"column\": \"qaqc_type\",\n",
    "                \"button row\": 2\n",
    "            }\n",
    "        ], \n",
    "    \"data\": \n",
    "        {\n",
    "            \"name\": \"Elements\", \n",
    "            \"columns\": elements\n",
    "        }\n",
    "    }"
   ],
   "outputs": [],
   "metadata": {}
  },
  {
   "cell_type": "code",
   "execution_count": 11,
   "source": [
    "interactive_histogram(dropdown_buttons, xrf_data, x_axis_label='Concentration (ppm)', y_axis_label='No. of samples')\n"
   ],
   "outputs": [
    {
     "output_type": "display_data",
     "data": {
      "text/plain": [
       "VBox(children=(HBox(children=(Dropdown(description='Elements', options=('Ag', 'As', 'Au', 'Ba', 'Bi', 'Ca', 'C…"
      ],
      "application/vnd.jupyter.widget-view+json": {
       "version_major": 2,
       "version_minor": 0,
       "model_id": "cbe4c5efe8fc42bb84072d7d2e051f2e"
      }
     },
     "metadata": {}
    }
   ],
   "metadata": {}
  },
  {
   "cell_type": "code",
   "execution_count": 6,
   "source": [
    "interactive_violin(dropdown_buttons, xrf_data, y_axis_label='Concentration (ppm)')\n"
   ],
   "outputs": [
    {
     "output_type": "display_data",
     "data": {
      "text/plain": [
       "VBox(children=(HBox(children=(Dropdown(description='Elements', options=('Ag', 'As', 'Au', 'Ba', 'Bi', 'Ca', 'C…"
      ],
      "application/vnd.jupyter.widget-view+json": {
       "version_major": 2,
       "version_minor": 0,
       "model_id": "6923c8a21a16441fb4a5e997d79ced16"
      }
     },
     "metadata": {}
    }
   ],
   "metadata": {}
  },
  {
   "cell_type": "code",
   "execution_count": null,
   "source": [],
   "outputs": [],
   "metadata": {}
  }
 ],
 "metadata": {
  "interpreter": {
   "hash": "5b05094f89a358e2bd5427d75e369c2a5f46c6e74e121d199000cf40cdc3d3be"
  },
  "kernelspec": {
   "name": "python3",
   "display_name": "Python 3.9.7 64-bit ('EPSC-552-Mont-St-Hilaire': conda)"
  },
  "language_info": {
   "codemirror_mode": {
    "name": "ipython",
    "version": 3
   },
   "file_extension": ".py",
   "mimetype": "text/x-python",
   "name": "python",
   "nbconvert_exporter": "python",
   "pygments_lexer": "ipython3",
   "version": "3.9.7"
  },
  "orig_nbformat": 4
 },
 "nbformat": 4,
 "nbformat_minor": 2
}