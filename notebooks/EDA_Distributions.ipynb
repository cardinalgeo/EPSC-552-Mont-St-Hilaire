{
 "cells": [
  {
   "cell_type": "code",
   "execution_count": 1,
   "metadata": {},
   "outputs": [],
   "source": [
    "import pandas as pd\n",
    "from mendeleev.fetch import fetch_table\n",
    "from source.interactive_plots import interactive_histogram, interactive_violin\n"
   ]
  },
  {
   "cell_type": "code",
   "execution_count": 2,
   "metadata": {},
   "outputs": [],
   "source": [
    "xrf_data = pd.read_excel(\"../data/interim/xrf_data_clean.xlsx\")\n",
    "xrf_data[\"date_str\"] = xrf_data[\"date\"].dt.strftime(\"%Y-%m-%d\")"
   ]
  },
  {
   "cell_type": "code",
   "execution_count": 3,
   "metadata": {},
   "outputs": [],
   "source": [
    "# get elements analyzed\n",
    "columns = xrf_data.columns.tolist()\n",
    "ptable = fetch_table('elements').symbol.to_list()\n",
    "elements = list(set(columns) & set(ptable))\n",
    "elements.sort()"
   ]
  },
  {
   "cell_type": "code",
   "execution_count": 4,
   "metadata": {},
   "outputs": [],
   "source": [
    "dropdown_buttons = {\n",
    "    \"categories\": \n",
    "        [\n",
    "            {\n",
    "                \"name\": \"Session\", \n",
    "                \"column\": \"date_str\", \n",
    "                \"button row\": 1\n",
    "            },\n",
    "            {\n",
    "                \"name\": \"Group\", \n",
    "                \"column\": \"group\", \n",
    "                \"button row\": 1\n",
    "            }, \n",
    "            {\n",
    "                \"name\": \"Sample Type\", \n",
    "                \"column\": \"sample_type\",\n",
    "                \"button row\": 2\n",
    "            },\n",
    "            {\n",
    "                \"name\": \"QA/QC Type\", \n",
    "                \"column\": \"qaqc_type\",\n",
    "                \"button row\": 2\n",
    "            }\n",
    "        ], \n",
    "    \"data\": \n",
    "        {\n",
    "            \"name\": \"Elements\", \n",
    "            \"columns\": elements\n",
    "        }\n",
    "    }"
   ]
  },
  {
   "cell_type": "code",
   "execution_count": 5,
   "metadata": {},
   "outputs": [
    {
     "data": {
      "application/vnd.jupyter.widget-view+json": {
       "model_id": "c99de1c48b494e6288718bb08b5c8148",
       "version_major": 2,
       "version_minor": 0
      },
      "text/plain": [
       "VBox(children=(HBox(children=(Dropdown(description='Elements', options=('Ag', 'As', 'Au', 'Ba', 'Bi', 'Ca', 'C…"
      ]
     },
     "metadata": {},
     "output_type": "display_data"
    }
   ],
   "source": [
    "interactive_histogram(dropdown_buttons, xrf_data, x_axis_label='Concentration (ppm)', y_axis_label='No. of samples')\n"
   ]
  },
  {
   "cell_type": "code",
   "execution_count": 6,
   "metadata": {},
   "outputs": [
    {
     "data": {
      "application/vnd.jupyter.widget-view+json": {
       "model_id": "5ad99d961cd540428d2cb12be4a3d256",
       "version_major": 2,
       "version_minor": 0
      },
      "text/plain": [
       "VBox(children=(HBox(children=(Dropdown(description='Elements', options=('Ag', 'As', 'Au', 'Ba', 'Bi', 'Ca', 'C…"
      ]
     },
     "metadata": {},
     "output_type": "display_data"
    }
   ],
   "source": [
    "interactive_violin(dropdown_buttons, xrf_data, y_axis_label='Concentration (ppm)')\n"
   ]
  },
  {
   "cell_type": "code",
   "execution_count": null,
   "metadata": {},
   "outputs": [],
   "source": []
  }
 ],
 "metadata": {
  "interpreter": {
   "hash": "da7f753086fad63f468c7afa1043fdfff877310ce7148e2af11ff3397961b305"
  },
  "kernelspec": {
   "display_name": "Python 3.9.7 64-bit ('EPSC-552-Mont-St-Hilaire': conda)",
   "name": "python3"
  },
  "language_info": {
   "codemirror_mode": {
    "name": "ipython",
    "version": 3
   },
   "file_extension": ".py",
   "mimetype": "text/x-python",
   "name": "python",
   "nbconvert_exporter": "python",
   "pygments_lexer": "ipython3",
   "version": "3.9.7"
  },
  "orig_nbformat": 4
 },
 "nbformat": 4,
 "nbformat_minor": 2
}
